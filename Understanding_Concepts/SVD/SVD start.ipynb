{
 "cells": [
  {
   "cell_type": "code",
   "execution_count": 16,
   "metadata": {},
   "outputs": [
    {
     "name": "stdout",
     "output_type": "stream",
     "text": [
      "Once deleted, variables cannot be recovered. Proceed (y/[n])? y\n"
     ]
    }
   ],
   "source": [
    "%reset\n",
    "import numpy as np\n",
    "import matplotlib.pylab as plt\n",
    "import pandas as pd\n",
    "from sklearn.datasets import fetch_olivetti_faces\n",
    "from sklearn.datasets import load_boston\n",
    "from sklearn import preprocessing\n",
    "import seaborn as sns\n",
    "from numpy import dot\n",
    "np.random.seed(678)"
   ]
  },
  {
   "cell_type": "code",
   "execution_count": 31,
   "metadata": {},
   "outputs": [
    {
     "name": "stdout",
     "output_type": "stream",
     "text": [
      "Original Data Shape:  (2, 3)\n",
      "dot(A,A.T) Eigen Value:  (2,)\n",
      "dot(A,A.T) Eigen Vector:  (2, 2)\n",
      "dot(A.T,A) Eigen Value:  (3,)\n",
      "dot(A.T,A) Eigen Vector:  (3, 3)\n"
     ]
    }
   ],
   "source": [
    "# create the first data\n",
    "data_1 = np.array([\n",
    "    [3,1,1],\n",
    "    [-1,3,1]\n",
    "])\n",
    "\n",
    "w_1_1 = data_1.dot(data_1.T)\n",
    "e_value_1_1,e_vector_1_1 = np.linalg.eigh(w_1_1)\n",
    "\n",
    "w_1_2 = data_1.T.dot(data_1)\n",
    "e_value_1_2,e_vector_1_2 = np.linalg.eigh(w_1_2)\n",
    "\n",
    "print(\"Original Data Shape: \", data_1.shape)\n",
    "print('dot(A,A.T) Eigen Value: ',e_value_1_1.shape)\n",
    "print('dot(A,A.T) Eigen Vector: ',e_vector_1_1.shape)\n",
    "print('dot(A.T,A) Eigen Value: ',e_value_1_2.shape)\n",
    "print('dot(A.T,A) Eigen Vector: ',e_vector_1_2.shape)"
   ]
  },
  {
   "cell_type": "code",
   "execution_count": 27,
   "metadata": {},
   "outputs": [
    {
     "name": "stdout",
     "output_type": "stream",
     "text": [
      "Sqrt Root Sum of One :  22.0\n",
      "Sqrt Root Sum of Two :  22.000000000000007\n"
     ]
    }
   ],
   "source": [
    "# Sort the eigen vector via the eigen value ranks\n",
    "idx_1_1 = e_value_1_1.argsort()[::-1]   \n",
    "e_value_1_1 = e_value_1_1[idx_1_1]\n",
    "e_vector_1_1 = e_vector_1_1[:,idx_1_1]\n",
    "\n",
    "idx_1_2 = e_value_1_2.argsort()[::-1]   \n",
    "e_value_1_2 = e_value_1_2[idx_1_2]\n",
    "e_vector_1_2 = e_vector_1_2[:,idx_1_2]\n",
    "\n",
    "# Campare the eigen vectors and see if their non zero elements are equal\n",
    "rows_1_1 = np.nonzero(e_value_1_1)\n",
    "rows_1_2 = np.nonzero(e_value_1_2)\n",
    "non_zero_1_1 = e_value_1_1[rows_1_1].copy()\n",
    "non_zero_1_2 = e_value_1_2[rows_1_2].copy()\n",
    "\n",
    "print('Sqrt Root Sum of One : ',np.sqrt(non_zero_1_1**2).sum())\n",
    "print('Sqrt Root Sum of Two : ',np.sqrt(non_zero_1_2**2).sum())"
   ]
  },
  {
   "cell_type": "code",
   "execution_count": 30,
   "metadata": {},
   "outputs": [
    {
     "name": "stdout",
     "output_type": "stream",
     "text": [
      "------------------\n",
      "Created Matrix U :  [[ 0.70710678 -0.70710678]\n",
      " [ 0.70710678  0.70710678]]\n",
      "Created Matrix S :  [[3.46410162 0.         0.        ]\n",
      " [0.         3.16227766 0.        ]]\n",
      "Created Matrix V :  [[-4.08248290e-01 -8.16496581e-01 -4.08248290e-01]\n",
      " [ 8.94427191e-01 -4.47213595e-01  2.77555756e-16]\n",
      " [-1.82574186e-01 -3.65148372e-01  9.12870929e-01]]\n",
      "\n",
      "------------------\n",
      "Reconstructed matrix : \n",
      " [[-3. -1. -1.]\n",
      " [ 1. -3. -1.]]\n",
      "Original matrix : \n",
      " [[ 3  1  1]\n",
      " [-1  3  1]]\n"
     ]
    },
    {
     "data": {
      "text/plain": [
       "<matplotlib.collections.LineCollection at 0x227e7845cc0>"
      ]
     },
     "execution_count": 30,
     "metadata": {},
     "output_type": "execute_result"
    },
    {
     "data": {
      "image/png": "[encoded data removed]",
      "text/plain": [
       "<Figure size 1080x1080 with 2 Axes>"
      ]
     },
     "metadata": {},
     "output_type": "display_data"
    }
   ],
   "source": [
    "# Create each matrix\n",
    "U_1 = e_vector_1_1\n",
    "temp = np.diag(np.sqrt(non_zero_1_1))\n",
    "S_1 = np.zeros_like(data_1).astype(np.float64)\n",
    "S_1[:temp.shape[0],:temp.shape[1]] = temp\n",
    "V_1 = e_vector_1_2.T\n",
    "\n",
    "print('------------------')\n",
    "print(\"Created Matrix U : \",U_1)\n",
    "print(\"Created Matrix S : \",S_1)\n",
    "print(\"Created Matrix V : \",V_1)\n",
    "\n",
    "print('\\n------------------')\n",
    "reconstructed_1 = dot(U_1,S_1).dot(V_1)\n",
    "print(\"Reconstructed matrix : \\n\",reconstructed_1)\n",
    "print(\"Original matrix : \\n\",data_1)\n",
    "\n",
    "df_1 = pd.DataFrame(np.hstack((data_1.T,reconstructed_1.T,-reconstructed_1.T)))\n",
    "plt.figure(figsize=(15,15))\n",
    "ax = sns.heatmap(np.around(df_1.corr(),2),annot=True,annot_kws={\"size\": 13},cmap=\"YlGnBu\")\n",
    "ax.xaxis.tick_top()\n",
    "ax.vlines([0,2,4,6], *ax.get_ylim())\n",
    "ax.hlines([0,2,4,6], *ax.get_xlim())"
   ]
  },
  {
   "cell_type": "code",
   "execution_count": 25,
   "metadata": {},
   "outputs": [
    {
     "name": "stdout",
     "output_type": "stream",
     "text": [
      "(2, 2)\n",
      "(3, 2)\n",
      "[[ 3.  1.  1.]\n",
      " [-1.  3.  1.]]\n",
      "[[ 0.70710678 -0.70710678]\n",
      " [ 0.70710678  0.70710678]]\n",
      "[[3.46410162 0.        ]\n",
      " [0.         3.16227766]]\n",
      "[[ 0.40824829 -0.89442719]\n",
      " [ 0.81649658  0.4472136 ]\n",
      " [ 0.40824829  0.        ]]\n"
     ]
    }
   ],
   "source": [
    "A = np.array([\n",
    "    [3,1,1],\n",
    "    [-1,3,1]\n",
    "])\n",
    "\n",
    "temp = A.dot(A.T)\n",
    "print(temp.shape)\n",
    "\n",
    "S,U = np.linalg.eig(temp)\n",
    "S = np.diag(np.sqrt(S))\n",
    "\n",
    "V = A.T.dot(U).dot(np.linalg.inv(S))\n",
    "print(V.shape)\n",
    "print(U.dot(S).dot(V.T))\n",
    "\n",
    "print(U)\n",
    "print(S)\n",
    "print(V)"
   ]
  },
  {
   "cell_type": "code",
   "execution_count": null,
   "metadata": {},
   "outputs": [],
   "source": []
  }
 ],
 "metadata": {
  "kernelspec": {
   "display_name": "Python 3",
   "language": "python",
   "name": "python3"
  },
  "language_info": {
   "codemirror_mode": {
    "name": "ipython",
    "version": 3
   },
   "file_extension": ".py",
   "mimetype": "text/x-python",
   "name": "python",
   "nbconvert_exporter": "python",
   "pygments_lexer": "ipython3",
   "version": "3.6.5"
  }
 },
 "nbformat": 4,
 "nbformat_minor": 2
}
