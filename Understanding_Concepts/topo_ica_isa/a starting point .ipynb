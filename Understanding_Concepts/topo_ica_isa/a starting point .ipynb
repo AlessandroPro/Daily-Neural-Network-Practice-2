{
 "cells": [
  {
   "cell_type": "code",
   "execution_count": 4,
   "metadata": {},
   "outputs": [],
   "source": [
    "# import needed library\n",
    "import tensorflow as tf \n",
    "import numpy as np\n",
    "import sklearn \n",
    "import matplotlib.pyplot as plt"
   ]
  },
  {
   "cell_type": "code",
   "execution_count": 5,
   "metadata": {
    "code_folding": []
   },
   "outputs": [],
   "source": [
    "# # get the fmri data (https://www.fil.ion.ucl.ac.uk/spm/data/auditory/)\n",
    "# # code from: https://github.com/akcarsten/akcarsten.github.io/blob/master/fMRI_data_analysis/Intro%20to%20fMRI%20Data.ipynb\n",
    "# import requests\n",
    "# import zipfile\n",
    "# import pandas as pd\n",
    "# import os\n",
    "# import nibabel\n",
    "\n",
    "# # Define the URL of the data and download it using the Requests libary\n",
    "# url = 'http://www.fil.ion.ucl.ac.uk/spm/download/data/MoAEpilot/MoAEpilot.zip'\n",
    "# data = requests.get(url)\n",
    "\n",
    "# # Check if the targed folder for storing the data already exists. If not create it and save the zip file.\n",
    "# if os.path.exists('./fMRI_data') == False:\n",
    "#     os.mkdir('fMRI_data')\n",
    "    \n",
    "# open('./fMRI_data/data.zip', 'wb').write(data.content)\n",
    "\n",
    "# # Un-zip the file\n",
    "# zip_ref = zipfile.ZipFile('./fMRI_data/data.zip', 'r')\n",
    "# zip_ref.extractall('./fMRI_data/')\n",
    "# zip_ref.close()"
   ]
  },
  {
   "cell_type": "code",
   "execution_count": 8,
   "metadata": {},
   "outputs": [],
   "source": [
    "# After downloading the data and movign \n",
    "# Find all files in the structural data folder\n",
    "data_path = '../../Dataset/fMRI_data/sM00223/'\n",
    "files = os.listdir(data_path)\n",
    "\n",
    "# Read in the data\n",
    "data_all = []\n",
    "for data_file in files:\n",
    "    if data_file[-3:] == 'hdr':\n",
    "        data = nibabel.load(data_path + data_file).get_data()"
   ]
  },
  {
   "cell_type": "code",
   "execution_count": null,
   "metadata": {},
   "outputs": [],
   "source": []
  },
  {
   "cell_type": "code",
   "execution_count": null,
   "metadata": {},
   "outputs": [],
   "source": []
  },
  {
   "cell_type": "code",
   "execution_count": null,
   "metadata": {},
   "outputs": [],
   "source": []
  },
  {
   "cell_type": "code",
   "execution_count": null,
   "metadata": {},
   "outputs": [],
   "source": []
  },
  {
   "cell_type": "code",
   "execution_count": 3,
   "metadata": {},
   "outputs": [
    {
     "name": "stdout",
     "output_type": "stream",
     "text": [
      "[master 7edd51c5] from mac\n",
      " 1 file changed, 1 insertion(+), 3 deletions(-)\n",
      "Counting objects: 5, done.\n",
      "Delta compression using up to 4 threads.\n",
      "Compressing objects: 100% (5/5), done.\n",
      "Writing objects: 100% (5/5), 443 bytes | 443.00 KiB/s, done.\n",
      "Total 5 (delta 4), reused 0 (delta 0)\n",
      "remote: Resolving deltas: 100% (4/4), completed with 4 local objects.\u001b[K\n",
      "To https://github.com/JaeDukSeo/Daily-Neural-Network-Practice-2\n",
      "   409fb307..7edd51c5  master -> master\n"
     ]
    }
   ],
   "source": [
    "! git add . \n",
    "! git commit -m 'from mac'\n",
    "! git push "
   ]
  },
  {
   "cell_type": "code",
   "execution_count": null,
   "metadata": {},
   "outputs": [],
   "source": []
  }
 ],
 "metadata": {
  "kernelspec": {
   "display_name": "Python 3",
   "language": "python",
   "name": "python3"
  },
  "language_info": {
   "codemirror_mode": {
    "name": "ipython",
    "version": 3
   },
   "file_extension": ".py",
   "mimetype": "text/x-python",
   "name": "python",
   "nbconvert_exporter": "python",
   "pygments_lexer": "ipython3",
   "version": "3.6.6"
  },
  "toc": {
   "base_numbering": 1,
   "nav_menu": {},
   "number_sections": true,
   "sideBar": true,
   "skip_h1_title": false,
   "title_cell": "Table of Contents",
   "title_sidebar": "Contents",
   "toc_cell": false,
   "toc_position": {},
   "toc_section_display": true,
   "toc_window_display": false
  }
 },
 "nbformat": 4,
 "nbformat_minor": 2
}
