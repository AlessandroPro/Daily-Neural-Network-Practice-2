{
 "cells": [
  {
   "cell_type": "code",
   "execution_count": 11,
   "metadata": {},
   "outputs": [],
   "source": [
    "import numpy as np\n",
    "import tensorflow as tf\n",
    "import pandas as pd\n",
    "import matplotlib.pyplot as plt\n",
    "import seaborn as sns"
   ]
  },
  {
   "cell_type": "code",
   "execution_count": 8,
   "metadata": {},
   "outputs": [
    {
     "data": {
      "text/html": [
       "<div>\n",
       "<style scoped>\n",
       "    .dataframe tbody tr th:only-of-type {\n",
       "        vertical-align: middle;\n",
       "    }\n",
       "\n",
       "    .dataframe tbody tr th {\n",
       "        vertical-align: top;\n",
       "    }\n",
       "\n",
       "    .dataframe thead th {\n",
       "        text-align: right;\n",
       "    }\n",
       "</style>\n",
       "<table border=\"1\" class=\"dataframe\">\n",
       "  <thead>\n",
       "    <tr style=\"text-align: right;\">\n",
       "      <th></th>\n",
       "      <th>Frequency</th>\n",
       "      <th>Angle of attack</th>\n",
       "      <th>Chord length</th>\n",
       "      <th>Free-stream</th>\n",
       "      <th>thickness</th>\n",
       "      <th>level</th>\n",
       "    </tr>\n",
       "  </thead>\n",
       "  <tbody>\n",
       "    <tr>\n",
       "      <th>count</th>\n",
       "      <td>1503.000000</td>\n",
       "      <td>1503.000000</td>\n",
       "      <td>1503.000000</td>\n",
       "      <td>1503.000000</td>\n",
       "      <td>1503.000000</td>\n",
       "      <td>1503.000000</td>\n",
       "    </tr>\n",
       "    <tr>\n",
       "      <th>mean</th>\n",
       "      <td>2886.380572</td>\n",
       "      <td>6.782302</td>\n",
       "      <td>0.136548</td>\n",
       "      <td>50.860745</td>\n",
       "      <td>0.011140</td>\n",
       "      <td>124.835943</td>\n",
       "    </tr>\n",
       "    <tr>\n",
       "      <th>std</th>\n",
       "      <td>3152.573137</td>\n",
       "      <td>5.918128</td>\n",
       "      <td>0.093541</td>\n",
       "      <td>15.572784</td>\n",
       "      <td>0.013150</td>\n",
       "      <td>6.898657</td>\n",
       "    </tr>\n",
       "    <tr>\n",
       "      <th>min</th>\n",
       "      <td>200.000000</td>\n",
       "      <td>0.000000</td>\n",
       "      <td>0.025400</td>\n",
       "      <td>31.700000</td>\n",
       "      <td>0.000401</td>\n",
       "      <td>103.380000</td>\n",
       "    </tr>\n",
       "    <tr>\n",
       "      <th>25%</th>\n",
       "      <td>800.000000</td>\n",
       "      <td>2.000000</td>\n",
       "      <td>0.050800</td>\n",
       "      <td>39.600000</td>\n",
       "      <td>0.002535</td>\n",
       "      <td>120.191000</td>\n",
       "    </tr>\n",
       "    <tr>\n",
       "      <th>50%</th>\n",
       "      <td>1600.000000</td>\n",
       "      <td>5.400000</td>\n",
       "      <td>0.101600</td>\n",
       "      <td>39.600000</td>\n",
       "      <td>0.004957</td>\n",
       "      <td>125.721000</td>\n",
       "    </tr>\n",
       "    <tr>\n",
       "      <th>75%</th>\n",
       "      <td>4000.000000</td>\n",
       "      <td>9.900000</td>\n",
       "      <td>0.228600</td>\n",
       "      <td>71.300000</td>\n",
       "      <td>0.015576</td>\n",
       "      <td>129.995500</td>\n",
       "    </tr>\n",
       "    <tr>\n",
       "      <th>max</th>\n",
       "      <td>20000.000000</td>\n",
       "      <td>22.200000</td>\n",
       "      <td>0.304800</td>\n",
       "      <td>71.300000</td>\n",
       "      <td>0.058411</td>\n",
       "      <td>140.987000</td>\n",
       "    </tr>\n",
       "  </tbody>\n",
       "</table>\n",
       "</div>"
      ],
      "text/plain": [
       "          Frequency  Angle of attack  Chord length  Free-stream    thickness  \\\n",
       "count   1503.000000      1503.000000   1503.000000  1503.000000  1503.000000   \n",
       "mean    2886.380572         6.782302      0.136548    50.860745     0.011140   \n",
       "std     3152.573137         5.918128      0.093541    15.572784     0.013150   \n",
       "min      200.000000         0.000000      0.025400    31.700000     0.000401   \n",
       "25%      800.000000         2.000000      0.050800    39.600000     0.002535   \n",
       "50%     1600.000000         5.400000      0.101600    39.600000     0.004957   \n",
       "75%     4000.000000         9.900000      0.228600    71.300000     0.015576   \n",
       "max    20000.000000        22.200000      0.304800    71.300000     0.058411   \n",
       "\n",
       "             level  \n",
       "count  1503.000000  \n",
       "mean    124.835943  \n",
       "std       6.898657  \n",
       "min     103.380000  \n",
       "25%     120.191000  \n",
       "50%     125.721000  \n",
       "75%     129.995500  \n",
       "max     140.987000  "
      ]
     },
     "execution_count": 8,
     "metadata": {},
     "output_type": "execute_result"
    }
   ],
   "source": [
    "# data \n",
    "df = pd.read_table('https://archive.ics.uci.edu/ml/machine-learning-databases/00291/airfoil_self_noise.dat',\n",
    "                  names =['Frequency','Angle of attack','Chord length','Free-stream','thickness','level'])\n",
    "df.describe()"
   ]
  },
  {
   "cell_type": "code",
   "execution_count": 9,
   "metadata": {},
   "outputs": [
    {
     "data": {
      "text/html": [
       "<div>\n",
       "<style scoped>\n",
       "    .dataframe tbody tr th:only-of-type {\n",
       "        vertical-align: middle;\n",
       "    }\n",
       "\n",
       "    .dataframe tbody tr th {\n",
       "        vertical-align: top;\n",
       "    }\n",
       "\n",
       "    .dataframe thead th {\n",
       "        text-align: right;\n",
       "    }\n",
       "</style>\n",
       "<table border=\"1\" class=\"dataframe\">\n",
       "  <thead>\n",
       "    <tr style=\"text-align: right;\">\n",
       "      <th></th>\n",
       "      <th>Frequency</th>\n",
       "      <th>Angle of attack</th>\n",
       "      <th>Chord length</th>\n",
       "      <th>Free-stream</th>\n",
       "      <th>thickness</th>\n",
       "      <th>level</th>\n",
       "    </tr>\n",
       "  </thead>\n",
       "  <tbody>\n",
       "    <tr>\n",
       "      <th>0</th>\n",
       "      <td>800</td>\n",
       "      <td>0.0</td>\n",
       "      <td>0.3048</td>\n",
       "      <td>71.3</td>\n",
       "      <td>0.002663</td>\n",
       "      <td>126.201</td>\n",
       "    </tr>\n",
       "    <tr>\n",
       "      <th>1</th>\n",
       "      <td>1000</td>\n",
       "      <td>0.0</td>\n",
       "      <td>0.3048</td>\n",
       "      <td>71.3</td>\n",
       "      <td>0.002663</td>\n",
       "      <td>125.201</td>\n",
       "    </tr>\n",
       "    <tr>\n",
       "      <th>2</th>\n",
       "      <td>1250</td>\n",
       "      <td>0.0</td>\n",
       "      <td>0.3048</td>\n",
       "      <td>71.3</td>\n",
       "      <td>0.002663</td>\n",
       "      <td>125.951</td>\n",
       "    </tr>\n",
       "    <tr>\n",
       "      <th>3</th>\n",
       "      <td>1600</td>\n",
       "      <td>0.0</td>\n",
       "      <td>0.3048</td>\n",
       "      <td>71.3</td>\n",
       "      <td>0.002663</td>\n",
       "      <td>127.591</td>\n",
       "    </tr>\n",
       "    <tr>\n",
       "      <th>4</th>\n",
       "      <td>2000</td>\n",
       "      <td>0.0</td>\n",
       "      <td>0.3048</td>\n",
       "      <td>71.3</td>\n",
       "      <td>0.002663</td>\n",
       "      <td>127.461</td>\n",
       "    </tr>\n",
       "  </tbody>\n",
       "</table>\n",
       "</div>"
      ],
      "text/plain": [
       "   Frequency  Angle of attack  Chord length  Free-stream  thickness    level\n",
       "0        800              0.0        0.3048         71.3   0.002663  126.201\n",
       "1       1000              0.0        0.3048         71.3   0.002663  125.201\n",
       "2       1250              0.0        0.3048         71.3   0.002663  125.951\n",
       "3       1600              0.0        0.3048         71.3   0.002663  127.591\n",
       "4       2000              0.0        0.3048         71.3   0.002663  127.461"
      ]
     },
     "execution_count": 9,
     "metadata": {},
     "output_type": "execute_result"
    }
   ],
   "source": [
    "df.head()"
   ]
  },
  {
   "cell_type": "code",
   "execution_count": 17,
   "metadata": {},
   "outputs": [
    {
     "data": {
      "text/plain": [
       "<matplotlib.axes._subplots.AxesSubplot at 0x2436d05c128>"
      ]
     },
     "execution_count": 17,
     "metadata": {},
     "output_type": "execute_result"
    },
    {
     "data": {
      "image/png": "[encoded data removed]",
      "text/plain": [
       "<Figure size 720x720 with 2 Axes>"
      ]
     },
     "metadata": {},
     "output_type": "display_data"
    }
   ],
   "source": [
    "plt.figure( figsize=(10, 10))\n",
    "sns.heatmap(df.corr(),annot=True,cmap=\"YlGnBu\")"
   ]
  },
  {
   "cell_type": "code",
   "execution_count": null,
   "metadata": {},
   "outputs": [],
   "source": [
    "plt.figure( figsize=(10, 10))\n",
    "df.plot(x='a', y='b')"
   ]
  }
 ],
 "metadata": {
  "kernelspec": {
   "display_name": "Python 3",
   "language": "python",
   "name": "python3"
  },
  "language_info": {
   "codemirror_mode": {
    "name": "ipython",
    "version": 3
   },
   "file_extension": ".py",
   "mimetype": "text/x-python",
   "name": "python",
   "nbconvert_exporter": "python",
   "pygments_lexer": "ipython3",
   "version": "3.6.5"
  }
 },
 "nbformat": 4,
 "nbformat_minor": 2
}
