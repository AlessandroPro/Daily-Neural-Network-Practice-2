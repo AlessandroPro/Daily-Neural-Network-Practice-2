{
 "cells": [
  {
   "cell_type": "code",
   "execution_count": 13,
   "metadata": {},
   "outputs": [],
   "source": [
    "%matplotlib inline\n",
    "import tensorflow as tf\n",
    "import numpy as np\n",
    "import sys, os,cv2\n",
    "from sklearn.utils import shuffle\n",
    "from scipy.misc import imread,imresize\n",
    "import matplotlib.pyplot as plt\n",
    "from sklearn.preprocessing import OneHotEncoder\n",
    "from skimage.transform import resize\n",
    "from imgaug import augmenters as iaa\n",
    "import imgaug as ia\n",
    "from scipy.ndimage import zoom\n",
    "import seaborn as sns\n",
    "\n",
    "old_v = tf.logging.get_verbosity()\n",
    "tf.logging.set_verbosity(tf.logging.ERROR)\n",
    "from tensorflow.examples.tutorials.mnist import input_data\n",
    "np.random.seed(789)"
   ]
  },
  {
   "cell_type": "code",
   "execution_count": 14,
   "metadata": {},
   "outputs": [
    {
     "name": "stdout",
     "output_type": "stream",
     "text": [
      "Extracting ../../Dataset/MNIST/train-images-idx3-ubyte.gz\n",
      "Extracting ../../Dataset/MNIST/train-labels-idx1-ubyte.gz\n",
      "Extracting ../../Dataset/MNIST/t10k-images-idx3-ubyte.gz\n",
      "Extracting ../../Dataset/MNIST/t10k-labels-idx1-ubyte.gz\n"
     ]
    }
   ],
   "source": [
    "# import data\n",
    "mnist = input_data.read_data_sets('../../Dataset/MNIST/', one_hot=True)\n",
    "train_data, train_label, test_data, test_label = mnist.train.images, mnist.train.labels, mnist.test.images, mnist.test.labels"
   ]
  },
  {
   "cell_type": "code",
   "execution_count": 24,
   "metadata": {},
   "outputs": [
    {
     "name": "stdout",
     "output_type": "stream",
     "text": [
      "(55000, 784)\n",
      "0.0 1.0\n",
      "(55000, 10)\n",
      "0.0 1.0\n",
      "(10000, 784)\n",
      "0.0 1.0\n",
      "(10000, 10)\n",
      "0.0 1.0\n",
      "-----------------------\n"
     ]
    },
    {
     "data": {
      "image/png": "[encoded data removed]",
      "text/plain": [
       "<Figure size 432x288 with 1 Axes>"
      ]
     },
     "metadata": {},
     "output_type": "display_data"
    },
    {
     "data": {
      "image/png": "[encoded data removed]",
      "text/plain": [
       "<Figure size 432x288 with 1 Axes>"
      ]
     },
     "metadata": {},
     "output_type": "display_data"
    }
   ],
   "source": [
    "# Show some details and vis some of them\n",
    "print(train_data.shape)\n",
    "print(train_data.min(),train_data.max())\n",
    "print(train_label.shape)\n",
    "print(train_label.min(),train_label.max())\n",
    "print(test_data.shape)\n",
    "print(test_data.min(),test_data.max())\n",
    "print(test_label.shape)\n",
    "print(test_label.min(),test_label.max())\n",
    "print('-----------------------')\n",
    "\n",
    "plt.imshow(train_data[1].reshape((28,28)),cmap='gray')\n",
    "plt.show()\n",
    "plt.imshow(test_data[1].reshape((28,28)),cmap='gray')\n",
    "plt.show()"
   ]
  },
  {
   "cell_type": "code",
   "execution_count": 27,
   "metadata": {},
   "outputs": [],
   "source": [
    "# create layer\n",
    "def np_sigmoid(x): return 1.0 / (1.0+np.exp(-x))\n",
    "def d_np_sigmoid(x): return np_sigmoid(x) * (1.0 - np_sigmoid(x))\n",
    "\n",
    "class np_FNN():\n",
    "    \n",
    "    def __init__(self,inc,outc):\n",
    "        self.w = np.random.randn(inc,outc)\n",
    "        self.m,self.v = np.zeros_like(self.w),np.zeros_like(self.w)\n",
    "        \n",
    "    def feedforward(self,input):\n",
    "        self.input  = input\n",
    "        self.layer  = self.input.dot(self.w)\n",
    "        self.layerA = np_sigmoid(self.layer)\n",
    "        return serf.layerA\n",
    "    \n",
    "    def backprop(self,grad):\n",
    "        grad_1 = grad\n",
    "        grad_2 = d_np_sigmoid(self.layer)\n",
    "        grad_3 = self.input\n",
    "        \n",
    "        grad_middle = grad_1 * grad_2\n",
    "        grad = grad_3.T.dot(grad_middle) / batch_size\n",
    "        grad_pass = grad_middle.dot(self.w.T)\n",
    "        \n",
    "        self.m = self.m * beta1 + (1. - beta1) * grad \n",
    "        self.v = self.v * beta2 + (1. - beta2) * grad ** 2\n",
    "        m_hat,v_hat = self.m/(1.-beta1), self.v/(1.-beta2)\n",
    "        adam_middle = learning_rate / (np.sqrt(v_hat) + adam_e) * m_hat\n",
    "        self.w = self.w - adam_middle\n",
    "        \n",
    "        return grad_pass"
   ]
  },
  {
   "cell_type": "code",
   "execution_count": null,
   "metadata": {},
   "outputs": [],
   "source": []
  },
  {
   "cell_type": "code",
   "execution_count": null,
   "metadata": {},
   "outputs": [],
   "source": []
  },
  {
   "cell_type": "code",
   "execution_count": null,
   "metadata": {},
   "outputs": [],
   "source": []
  },
  {
   "cell_type": "code",
   "execution_count": null,
   "metadata": {},
   "outputs": [],
   "source": []
  },
  {
   "cell_type": "code",
   "execution_count": null,
   "metadata": {},
   "outputs": [],
   "source": []
  },
  {
   "cell_type": "code",
   "execution_count": null,
   "metadata": {},
   "outputs": [],
   "source": []
  },
  {
   "cell_type": "code",
   "execution_count": null,
   "metadata": {},
   "outputs": [],
   "source": []
  },
  {
   "cell_type": "code",
   "execution_count": null,
   "metadata": {},
   "outputs": [],
   "source": []
  }
 ],
 "metadata": {
  "kernelspec": {
   "display_name": "Python 3",
   "language": "python",
   "name": "python3"
  },
  "language_info": {
   "codemirror_mode": {
    "name": "ipython",
    "version": 3
   },
   "file_extension": ".py",
   "mimetype": "text/x-python",
   "name": "python",
   "nbconvert_exporter": "python",
   "pygments_lexer": "ipython3",
   "version": "3.6.5"
  }
 },
 "nbformat": 4,
 "nbformat_minor": 2
}
