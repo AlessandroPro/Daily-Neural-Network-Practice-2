{
 "cells": [
  {
   "cell_type": "code",
   "execution_count": 1,
   "metadata": {},
   "outputs": [],
   "source": [
    "import tensorflow as tf\n",
    "import numpy as np\n",
    "import sys, os,cv2\n",
    "from sklearn.utils import shuffle\n",
    "from scipy.misc import imread,imresize\n",
    "import matplotlib.pyplot as plt\n",
    "from sklearn.preprocessing import OneHotEncoder\n",
    "from skimage.transform import resize\n",
    "from imgaug import augmenters as iaa\n",
    "import imgaug as ia\n",
    "from scipy.ndimage import zoom\n",
    "\n",
    "old_v = tf.logging.get_verbosity()\n",
    "tf.logging.set_verbosity(tf.logging.ERROR)\n",
    "from tensorflow.examples.tutorials.mnist import input_data\n",
    "np.random.seed(789)"
   ]
  },
  {
   "cell_type": "code",
   "execution_count": 2,
   "metadata": {},
   "outputs": [],
   "source": [
    "def np_sig(x): return 1.0/(1.0+np.exp(-x))\n",
    "def d_np_sig(x): return np_sig(x) * (1.0 - np_sig(x))\n",
    "\n",
    "class FNN_numpy():\n",
    "\n",
    "    def __init__(self,inc,outc):\n",
    "        self.w = np.random.randn(inc,outc)\n",
    "        self.m,self.v = np.zeros_like(self.w),np.zeros_like(self.w)\n",
    "\n",
    "    def feedforward(self,input):\n",
    "        self.input = input\n",
    "        self.layer = self.input.dot(self.w)\n",
    "        self.layerA = np_sig(self.layer)\n",
    "        return self.layerA\n",
    "\n",
    "    def backprop(self,grad):\n",
    "        grad_part_1 = grad\n",
    "        grad_part_2 = d_np_sig(self.layer)\n",
    "        grad_part_3 = self.input\n",
    "\n",
    "        grad_middle = grad_part_1 * grad_part_2\n",
    "        grad = grad_part_3.T.dot(grad_middle)\n",
    "        grad_pass = grad_middle.dot(self.w.T)\n",
    "\n",
    "        self.m = self.m * beta1 + (1.0-beta1) * grad\n",
    "        self.v = self.v * beta2 + (1.0-beta2) * grad ** 2\n",
    "        m_hat,v_hat = self.m/(1.-beta1),self.v/(1.-beta2)\n",
    "        adam_mid = learning_rate / (np.sqrt(v_hat) + adam_e) * m_hat\n",
    "        self.w = self.w - adam_mid\n",
    "        return grad_pass\n",
    "\n",
    "class whitening_layer():\n",
    "\n",
    "    def __init__(self):\n",
    "        self.moving_sigma = 0\n",
    "        self.moving_mean = 0\n",
    "\n",
    "    def feedforward(self,input):\n",
    "        self.u = np.expand_dims(np.mean(input,axis=1),1)\n",
    "        self.sigma = (input - self.u).dot((input - self.u).T) / batch_size\n",
    "        self.eigenval,self.eigvector = np.linalg.eigh(self.sigma)\n",
    "        self.U = np.diag(1. / np.sqrt(self.eigenval + white_e)).dot(self.eigvector.T)\n",
    "        self.whiten = self.U.dot(input-self.u)\n",
    "        self.zca = self.eigvector.dot(self.whiten)\n",
    "        return self.zca\n",
    "\n",
    "    def backprop(self,grad):\n",
    "        pass"
   ]
  },
  {
   "cell_type": "code",
   "execution_count": 9,
   "metadata": {},
   "outputs": [
    {
     "data": {
      "text/plain": [
       "<matplotlib.collections.PathCollection at 0x2365f251208>"
      ]
     },
     "execution_count": 9,
     "metadata": {},
     "output_type": "execute_result"
    },
    {
     "data": {
      "image/png": "[encoded data removed]",
      "text/plain": [
       "<Figure size 720x720 with 1 Axes>"
      ]
     },
     "metadata": {},
     "output_type": "display_data"
    }
   ],
   "source": [
    "# hyper\n",
    "batch_size = 100\n",
    "\n",
    "learning_rate = 0.0001\n",
    "beta1,beta2,adam_e = 0.9,0.999,1e-8\n",
    "white_e = 1e-10\n",
    "\n",
    "# data \n",
    "sample_data = np.random.randn(50,2)\n",
    "\n",
    "# show\n",
    "%matplotlib inline  \n",
    "plt.figure(figsize=(10, 10))\n",
    "plt.grid()\n",
    "plt.scatter(sample_data[:,0],sample_data[:,1])"
   ]
  },
  {
   "cell_type": "code",
   "execution_count": null,
   "metadata": {},
   "outputs": [],
   "source": []
  }
 ],
 "metadata": {
  "kernelspec": {
   "display_name": "Python 3",
   "language": "python",
   "name": "python3"
  },
  "language_info": {
   "codemirror_mode": {
    "name": "ipython",
    "version": 3
   },
   "file_extension": ".py",
   "mimetype": "text/x-python",
   "name": "python",
   "nbconvert_exporter": "python",
   "pygments_lexer": "ipython3",
   "version": "3.6.5"
  }
 },
 "nbformat": 4,
 "nbformat_minor": 2
}
