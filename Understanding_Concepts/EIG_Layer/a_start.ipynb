{
 "cells": [
  {
   "cell_type": "code",
   "execution_count": 132,
   "metadata": {},
   "outputs": [],
   "source": [
    "import tensorflow as tf\n",
    "import numpy as np\n",
    "import sys, os,cv2\n",
    "from sklearn.utils import shuffle\n",
    "from scipy.misc import imread,imresize\n",
    "import matplotlib.pyplot as plt\n",
    "from sklearn.preprocessing import OneHotEncoder\n",
    "from skimage.transform import resize\n",
    "from imgaug import augmenters as iaa\n",
    "import imgaug as ia\n",
    "from scipy.ndimage import zoom\n",
    "import seaborn as sns\n",
    "\n",
    "old_v = tf.logging.get_verbosity()\n",
    "tf.logging.set_verbosity(tf.logging.ERROR)\n",
    "from tensorflow.examples.tutorials.mnist import input_data\n",
    "np.random.seed(789)"
   ]
  },
  {
   "cell_type": "code",
   "execution_count": 261,
   "metadata": {},
   "outputs": [
    {
     "data": {
      "text/plain": [
       "array([[ 6.31070861e-15, -6.76352053e-17],\n",
       "       [ 1.20838683e-14, -1.28350527e-16],\n",
       "       [ 1.25279576e-14, -1.29272099e-16],\n",
       "       [ 1.08062445e-14, -1.13496957e-16],\n",
       "       [ 5.75559710e-15, -6.09131519e-17],\n",
       "       [ 9.92587234e-15, -1.03522297e-16],\n",
       "       [ 1.22365240e-14, -1.28567367e-16],\n",
       "       [ 1.21255017e-14, -1.26832644e-16],\n",
       "       [ 5.45028577e-15, -5.98289497e-17],\n",
       "       [ 8.00379873e-15, -8.45487592e-17],\n",
       "       [ 9.29443299e-15, -9.81012864e-17],\n",
       "       [ 1.08949322e-14, -1.13984848e-16],\n",
       "       [ 9.67954160e-15, -1.02058624e-16],\n",
       "       [ 8.85034378e-15, -9.34392170e-17],\n",
       "       [ 1.08001730e-14, -1.12981961e-16],\n",
       "       [ 1.03075115e-14, -1.08157262e-16],\n",
       "       [ 1.12251802e-14, -1.17589820e-16],\n",
       "       [ 7.57358730e-15, -8.12961527e-17],\n",
       "       [ 1.12789566e-14, -1.17942186e-16],\n",
       "       [ 9.85301395e-15, -1.03088616e-16],\n",
       "       [ 1.20006016e-14, -1.26398963e-16],\n",
       "       [ 1.19034571e-14, -1.24664240e-16],\n",
       "       [ 1.03092462e-14, -1.08319892e-16],\n",
       "       [ 8.65605475e-15, -9.14876531e-17],\n",
       "       [ 1.08756334e-14, -1.14120373e-16],\n",
       "       [ 1.31385802e-14, -1.35939942e-16],\n",
       "       [ 1.20830010e-14, -1.25314761e-16],\n",
       "       [ 9.90136937e-15, -1.05148601e-16],\n",
       "       [ 9.96750570e-15, -1.04769130e-16],\n",
       "       [ 7.58746509e-15, -7.99951101e-17],\n",
       "       [ 1.03109809e-14, -1.08130156e-16],\n",
       "       [ 1.17924348e-14, -1.23471617e-16],\n",
       "       [ 1.87174509e-14, -1.94920540e-16],\n",
       "       [ 9.52341649e-15, -1.00269691e-16],\n",
       "       [ 9.44014976e-15, -9.97004846e-17],\n",
       "       [ 1.08222907e-14, -1.13442747e-16],\n",
       "       [ 1.53035151e-14, -1.58925028e-16],\n",
       "       [ 1.11720543e-14, -1.17915081e-16],\n",
       "       [ 1.33051137e-14, -1.38758868e-16],\n",
       "       [ 1.54700486e-14, -1.61527113e-16],\n",
       "       [ 9.16259401e-15, -9.63665629e-17],\n",
       "       [ 1.01305697e-14, -1.06436091e-16],\n",
       "       [ 1.13205900e-14, -1.18701128e-16],\n",
       "       [ 1.21046850e-14, -1.26778434e-16],\n",
       "       [ 1.09120626e-14, -1.14404977e-16],\n",
       "       [ 1.16154930e-14, -1.21411633e-16],\n",
       "       [ 1.11089537e-14, -1.16221015e-16],\n",
       "       [ 1.12789566e-14, -1.18592707e-16],\n",
       "       [ 9.55117207e-15, -1.00486531e-16],\n",
       "       [ 1.21185628e-14, -1.26507383e-16]])"
      ]
     },
     "execution_count": 261,
     "metadata": {},
     "output_type": "execute_result"
    }
   ],
   "source": [
    "def np_sig(x): return 1.0/(1.0+np.exp(-x))\n",
    "def d_np_sig(x): return np_sig(x) * (1.0 - np_sig(x))\n",
    "\n",
    "class FNN_numpy():\n",
    "\n",
    "    def __init__(self,inc,outc):\n",
    "        self.w = np.random.randn(inc,outc)\n",
    "        self.m,self.v = np.zeros_like(self.w),np.zeros_like(self.w)\n",
    "\n",
    "    def feedforward(self,input):\n",
    "        self.input = input\n",
    "        self.layer = self.input.dot(self.w)\n",
    "        self.layerA = np_sig(self.layer)\n",
    "        return self.layerA\n",
    "\n",
    "    def backprop(self,grad):\n",
    "        grad_part_1 = grad\n",
    "        grad_part_2 = d_np_sig(self.layer)\n",
    "        grad_part_3 = self.input\n",
    "\n",
    "        grad_middle = grad_part_1 * grad_part_2\n",
    "        grad = grad_part_3.T.dot(grad_middle)\n",
    "        grad_pass = grad_middle.dot(self.w.T)\n",
    "\n",
    "        self.m = self.m * beta1 + (1.0-beta1) * grad\n",
    "        self.v = self.v * beta2 + (1.0-beta2) * grad ** 2\n",
    "        m_hat,v_hat = self.m/(1.-beta1),self.v/(1.-beta2)\n",
    "        adam_mid = learning_rate / (np.sqrt(v_hat) + adam_e) * m_hat\n",
    "        self.w = self.w - adam_mid\n",
    "        return grad_pass\n",
    "\n",
    "class whitening_layer():\n",
    "\n",
    "    def __init__(self):\n",
    "        self.moving_sigma = 0\n",
    "        self.moving_mean = 0\n",
    "\n",
    "    def feedforward(self,input):\n",
    "        self.input = input\n",
    "        self.mean = np.mean(input,axis=0)\n",
    "        self.sigma = (input - self.mean).T.dot(input - self.mean) / input.shape[1]\n",
    "        self.eigenval,self.eigvector = np.linalg.eigh(self.sigma)\n",
    "        self.U = self.eigvector.dot(np.diag(1. / np.sqrt(self.eigenval)))\n",
    "        self.whiten = (input - self.mean).dot(self.U)\n",
    "        self.zca = self.whiten.dot(self.eigvector)\n",
    "        return self.zca\n",
    "\n",
    "    def backprop(self,grad):\n",
    "        dwhiten = grad.dot(self.eigvector.T)\n",
    "        dU = (self.input-self.mean).T.dot(dwhiten)\n",
    "        deigenval = self.eigvector.T.dot(dU).dot(np.diag(-0.5 * 1/(self.eigenval ** 1.5)))\n",
    "        deigvector = self.whiten.T.dot(grad) + dU.dot(np.diag(1. / np.sqrt(self.eigenval)).T)\n",
    "        \n",
    "        shape_eig = self.eigenval.shape[0]\n",
    "        Iden = np.eye(shape_eig)\n",
    "        E = np.ones((shape_eig,1)).dot(np.expand_dims(self.eigenval.T,0))-np.expand_dims(self.eigenval,1).dot(np.ones((1,shape_eig)))\n",
    "        F = 1.0/(E+Iden) - Iden\n",
    "        deigenval_zero = np.eye(deigenval.shape[0]) * deigenval\n",
    "        dsigma = self.eigvector.dot( F.T * (self.eigvector.dot(deigvector))+deigenval_zero).dot(self.eigvector.T)     \n",
    "        \n",
    "        symm_sigma = 0.5 * (dsigma.T + dsigma)\n",
    "        dmean = -np.sum(dwhiten,0).dot(self.U.T) + (-2/shape_eig) * np.mean(self.input - self.mean,0).dot(symm_sigma)\n",
    "        \n",
    "        dInput = dwhiten.dot(self.U.T) + (2/shape_eig) * (self.input - self.mean).dot(symm_sigma) + 1/shape_eig * dmean\n",
    "        return dInput\n",
    "            \n",
    "        \n",
    "        \n",
    "\n",
    "# hyper\n",
    "batch_size = 100\n",
    "learning_rate = 0.0001\n",
    "beta1,beta2,adam_e = 0.9,0.999,1e-8\n",
    "white_e = 10e-5\n",
    "\n",
    "# data \n",
    "from sklearn.datasets import make_regression\n",
    "sample_data = np.random.randn(50,2)\n",
    "X, y = make_regression(n_samples=50, n_features=1, noise=12.,random_state =9) \n",
    "y = y + 200\n",
    "sample_data = 3*np.hstack((X,np.expand_dims(y,1))) + 10\n",
    "\n",
    "# class\n",
    "wh_l = whitening_layer()\n",
    "whiten_data = wh_l.feedforward(sample_data)\n",
    "wh_l.backprop(whiten_data)\n",
    "\n",
    "# show\n",
    "# %matplotlib inline  \n",
    "# plt.figure(figsize=(10, 10))\n",
    "# plt.grid()\n",
    "# plt.scatter(sample_data[:,0],sample_data[:,1])\n",
    "# plt.show()\n",
    "\n",
    "# # covariance mat\n",
    "# plt.figure(figsize=(10, 10))\n",
    "# sns.heatmap(np.cov(sample_data.T))\n",
    "# plt.show()"
   ]
  },
  {
   "cell_type": "code",
   "execution_count": 163,
   "metadata": {},
   "outputs": [
    {
     "name": "stdout",
     "output_type": "stream",
     "text": [
      "(50, 2)\n"
     ]
    }
   ],
   "source": [
    "# class\n",
    "wh_l = whitening_layer()\n",
    "whiten_data = wh_l.feedforward(sample_data)\n",
    "wh_l.backprop(whiten_data)\n",
    "\n",
    "# plt.figure(figsize=(10, 10))\n",
    "# plt.grid()\n",
    "# plt.scatter(whiten_data[:,0],whiten_data[:,1])\n",
    "# plt.show()\n",
    "\n",
    "# # covariance mat\n",
    "# plt.figure(figsize=(10, 10))\n",
    "# sns.heatmap(np.cov(whiten_data.T))\n",
    "# plt.show()"
   ]
  },
  {
   "cell_type": "code",
   "execution_count": 156,
   "metadata": {},
   "outputs": [],
   "source": [
    "def zca_whiten(X):\n",
    "    \"\"\"\n",
    "    Applies ZCA whitening to the data (X)\n",
    "    http://xcorr.net/2011/05/27/whiten-a-matrix-matlab-code/\n",
    "\n",
    "    X: numpy 2d array\n",
    "        input data, rows are data points, columns are features\n",
    "\n",
    "    Returns: ZCA whitened 2d array\n",
    "    \"\"\"\n",
    "    EPS = 10e-5\n",
    "\n",
    "    #   covariance matrix\n",
    "    cov = np.dot(X.T, X)\n",
    "    #   d = (lambda1, lambda2, ..., lambdaN)\n",
    "    d, E = np.linalg.eigh(cov)\n",
    "    #   D = diag(d) ^ (-1/2)\n",
    "    D = np.diag(1. / np.sqrt(d + EPS))\n",
    "    #   W_zca = E * D * E.T\n",
    "    W = np.dot(np.dot(E, D), E.T)\n",
    "\n",
    "    X_white = np.dot(X, W)\n",
    "\n",
    "    return X_white"
   ]
  },
  {
   "cell_type": "code",
   "execution_count": 157,
   "metadata": {},
   "outputs": [
    {
     "name": "stdout",
     "output_type": "stream",
     "text": [
      "(2,)\n"
     ]
    },
    {
     "data": {
      "image/png": "[encoded data removed]",
      "text/plain": [
       "<Figure size 720x720 with 1 Axes>"
      ]
     },
     "metadata": {},
     "output_type": "display_data"
    },
    {
     "data": {
      "image/png": "[encoded data removed]",
      "text/plain": [
       "<Figure size 720x720 with 2 Axes>"
      ]
     },
     "metadata": {},
     "output_type": "display_data"
    }
   ],
   "source": [
    "print(np.mean(sample_data,0).shape)\n",
    "centered_data = sample_data - np.mean(sample_data,0)\n",
    "temp = zca_whiten(centered_data)\n",
    "plt.figure(figsize=(10, 10))\n",
    "plt.grid()\n",
    "plt.scatter(temp[:,0],temp[:,1])\n",
    "plt.show()\n",
    "\n",
    "# covariance mat\n",
    "plt.figure(figsize=(10, 10))\n",
    "sns.heatmap(np.cov(temp.T))\n",
    "plt.show()"
   ]
  },
  {
   "cell_type": "code",
   "execution_count": null,
   "metadata": {},
   "outputs": [],
   "source": []
  },
  {
   "cell_type": "code",
   "execution_count": null,
   "metadata": {},
   "outputs": [],
   "source": []
  },
  {
   "cell_type": "code",
   "execution_count": null,
   "metadata": {},
   "outputs": [],
   "source": []
  },
  {
   "cell_type": "code",
   "execution_count": null,
   "metadata": {},
   "outputs": [],
   "source": []
  },
  {
   "cell_type": "code",
   "execution_count": null,
   "metadata": {},
   "outputs": [],
   "source": []
  },
  {
   "cell_type": "code",
   "execution_count": null,
   "metadata": {},
   "outputs": [],
   "source": []
  }
 ],
 "metadata": {
  "kernelspec": {
   "display_name": "Python 3",
   "language": "python",
   "name": "python3"
  },
  "language_info": {
   "codemirror_mode": {
    "name": "ipython",
    "version": 3
   },
   "file_extension": ".py",
   "mimetype": "text/x-python",
   "name": "python",
   "nbconvert_exporter": "python",
   "pygments_lexer": "ipython3",
   "version": "3.6.5"
  }
 },
 "nbformat": 4,
 "nbformat_minor": 2
}
