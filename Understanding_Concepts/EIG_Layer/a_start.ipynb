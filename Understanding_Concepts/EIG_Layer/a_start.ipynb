{
 "cells": [
  {
   "cell_type": "code",
   "execution_count": 12,
   "metadata": {},
   "outputs": [],
   "source": [
    "import numpy as np\n",
    "import tensorflow as tf\n",
    "from numpy.linalg import inv,pinv,eigh"
   ]
  },
  {
   "cell_type": "code",
   "execution_count": 15,
   "metadata": {},
   "outputs": [
    {
     "name": "stdout",
     "output_type": "stream",
     "text": [
      "[-5.43071561  1.76904987  6.66166575]\n",
      "[[-5.43071561  0.          0.        ]\n",
      " [ 0.          1.76904987  0.        ]\n",
      " [ 0.          0.          6.66166575]]\n",
      "[[ 0.87118413 -0.31452619 -0.37697678]\n",
      " [ 0.32778267  0.94426587 -0.0303395 ]\n",
      " [-0.36550888  0.09713517 -0.92572567]]\n"
     ]
    }
   ],
   "source": [
    "#create upper triangular matrix\n",
    "A_vec = np.array([-3,-2,4,-2,1,1,4,1,5])\n",
    "A = np.reshape(A_vec,[3,3])\n",
    "D,U = eigh(A)\n",
    "D_diag = np.diag(D)\n",
    "print(D)\n",
    "print(D_diag)\n",
    "print(U)\n",
    "\n",
    "temp = inv(U).T"
   ]
  },
  {
   "cell_type": "code",
   "execution_count": 5,
   "metadata": {},
   "outputs": [
    {
     "name": "stdout",
     "output_type": "stream",
     "text": [
      "(array([-5.43071561,  1.76904987,  6.66166575]), array([[-0.87118413,  0.31452619, -0.37697678],\n",
      "       [-0.32778267, -0.94426587, -0.0303395 ],\n",
      "       [ 0.36550888, -0.09713517, -0.92572567]]))\n"
     ]
    }
   ],
   "source": [
    "#tensorflow variables\n",
    "A_tf = tf.Variable(tf.constant(A,dtype=tf.float64))\n",
    "e_tf = tf.self_adjoint_eig(A_tf)\n",
    "#initialise variables and run session\n",
    "sess = tf.Session()\n",
    "sess.run(tf.global_variables_initializer())\n",
    "print(sess.run(e_tf))"
   ]
  },
  {
   "cell_type": "code",
   "execution_count": null,
   "metadata": {},
   "outputs": [],
   "source": []
  }
 ],
 "metadata": {
  "kernelspec": {
   "display_name": "Python 3",
   "language": "python",
   "name": "python3"
  },
  "language_info": {
   "codemirror_mode": {
    "name": "ipython",
    "version": 3
   },
   "file_extension": ".py",
   "mimetype": "text/x-python",
   "name": "python",
   "nbconvert_exporter": "python",
   "pygments_lexer": "ipython3",
   "version": "3.6.5"
  }
 },
 "nbformat": 4,
 "nbformat_minor": 2
}
