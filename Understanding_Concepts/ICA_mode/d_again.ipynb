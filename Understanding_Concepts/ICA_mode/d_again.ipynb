{
 "cells": [
  {
   "cell_type": "code",
   "execution_count": 60,
   "metadata": {},
   "outputs": [],
   "source": [
    "import numpy as np\n",
    "import matplotlib.pyplot as plt\n",
    "from scipy import signal\n",
    "from sklearn.decomposition import FastICA, PCA\n",
    "from numpy import dot\n",
    "import pandas as pd\n",
    "import seaborn as sns\n",
    "np.random.seed(789)"
   ]
  },
  {
   "cell_type": "code",
   "execution_count": 61,
   "metadata": {},
   "outputs": [],
   "source": [
    "# Generate sample data\n",
    "n_samples = 2000\n",
    "time = np.linspace(0, 8, n_samples)\n",
    "\n",
    "s1 = np.sin(2 * time)  # Signal 1 : sinusoidal signal\n",
    "s2 = np.sign(np.sin(3 * time))  # Signal 2 : square signal\n",
    "s3 = signal.sawtooth(2 * np.pi * time)  # Signal 3: saw tooth signal"
   ]
  },
  {
   "cell_type": "code",
   "execution_count": 62,
   "metadata": {},
   "outputs": [
    {
     "name": "stdout",
     "output_type": "stream",
     "text": [
      "Signal Matrix :  (2000, 3)\n",
      "Mix Matrix :  (3, 3)\n",
      "Transform Matrix:  (2000, 3)\n",
      "Mean of Transformed :  0.24228805853065108\n"
     ]
    }
   ],
   "source": [
    "# Mix the Signals\n",
    "S = np.c_[s1, s2, s3]\n",
    "S += 0.2 * np.random.normal(size=S.shape)  # Add noise\n",
    "S /= S.std(axis=0)  # Standardize data\n",
    "\n",
    "# Mix data\n",
    "A = np.array([[1, 1, 1], [0.5, 2, 1.0], [1.5, 1.0, 2.0]])  # Mixing matrix\n",
    "X = np.dot(S, A.T)  # Generate observations\n",
    "\n",
    "print(\"Signal Matrix : \", S.shape)\n",
    "print(\"Mix Matrix : \", A.shape)\n",
    "print(\"Transform Matrix: \", X.shape)\n",
    "print(\"Mean of Transformed : \", X.mean())"
   ]
  },
  {
   "cell_type": "code",
   "execution_count": 63,
   "metadata": {},
   "outputs": [],
   "source": [
    "# Compute ICA\n",
    "ica = FastICA(n_components=3)\n",
    "S_ica = ica.fit_transform(X)  # Reconstruct signals\n",
    "A_ = ica.mixing_  # Get estimated mixing matrix"
   ]
  },
  {
   "cell_type": "code",
   "execution_count": 64,
   "metadata": {},
   "outputs": [],
   "source": [
    "# For comparison, compute PCA\n",
    "pca = PCA(n_components=3)\n",
    "S_pca = pca.fit_transform(X)  # Reconstruct signals based on orthogonal components"
   ]
  },
  {
   "cell_type": "code",
   "execution_count": 65,
   "metadata": {},
   "outputs": [],
   "source": [
    "# For comparsion ICA with gradient (gradient)\n",
    "w_grad = np.eye(3)\n",
    "\n",
    "def np_sig(x):\n",
    "    return  1 /(1+(np.exp(-x)))\n",
    "\n",
    "for iter in range(30000):\n",
    "    grad = np.linalg.inv(w_grad.T) + dot(np_sig(dot(X,w_grad)).T,X)\n",
    "    w_grad = w_grad + 0.001 * grad\n",
    "    \n",
    "S_grad = dot(X,w_grad)"
   ]
  },
  {
   "cell_type": "code",
   "execution_count": null,
   "metadata": {},
   "outputs": [],
   "source": [
    "# For comparsion ICA with gradient (adam)\n",
    "w = np.eye(3)\n",
    "v = np.zeros_like(w)\n",
    "m = np.zeros_like(w)\n",
    "\n",
    "for iter in range(30000):\n",
    "    grad = np.linalg.inv(w_grad.T) + dot(np_sig(dot(X,w_grad)).T,X)\n",
    "    \n",
    "    m = 0.9 * m + (1-0.9) * grad\n",
    "    v = 0.999 * v + (1-0.999) * grad ** 2\n",
    "    \n",
    "    m_hat = m/(1-0.9)\n",
    "    v_hat = v/(1-0.9)\n",
    "    w = w + 0.001/np.sqrt(v_hat + 1e-10) * m_hat   \n",
    "\n",
    "S_adam = dot(X,w)"
   ]
  },
  {
   "cell_type": "code",
   "execution_count": null,
   "metadata": {},
   "outputs": [],
   "source": [
    "# For comparsion ICA with gradient another method\n",
    "w_grad2 = np.eye(3)\n",
    "for current_iter in range(30000):\n",
    "    u = dot(X,w_grad2)\n",
    "    U = np.tanh(u)\n",
    "    g = np.linalg.inv(w_grad2.T) - (2/len(X)) * dot(X.T,U)\n",
    "    w_grad2 = w_grad2 + 0.001 *g\n",
    "S_grad2 = dot(X,w_grad2)"
   ]
  },
  {
   "cell_type": "code",
   "execution_count": null,
   "metadata": {},
   "outputs": [],
   "source": [
    "print(S.shape)\n",
    "print(S_ica.shape)\n",
    "print(S_pca.shape)\n",
    "print(S_grad.shape)\n",
    "print(S_adam.shape)\n",
    "print(S_grad2.shape)"
   ]
  },
  {
   "cell_type": "code",
   "execution_count": null,
   "metadata": {},
   "outputs": [],
   "source": [
    "df = pd.DataFrame(np.hstack((S, S_ica, S_pca,S_grad,S_adam,S_grad2)),\n",
    "                 columns=['Og 1','Og 2','Og 3',\n",
    "                         'ICA 1','ICA 2','ICA 3',\n",
    "                         'PCA 1','PCA 2','PCA 3',\n",
    "                         'Grad 1','Grad 2','Grad 3',\n",
    "                         'Adam 1','Adam 2','Adam 3',\n",
    "                         'Grad 1','Grad 2','Grad 3',])\n",
    "plt.figure(figsize=(18,18))\n",
    "sns.heatmap(np.around(df.corr(),2),annot=True,annot_kws={\"size\": 13})"
   ]
  },
  {
   "cell_type": "code",
   "execution_count": null,
   "metadata": {},
   "outputs": [],
   "source": []
  }
 ],
 "metadata": {
  "kernelspec": {
   "display_name": "Python 3",
   "language": "python",
   "name": "python3"
  },
  "language_info": {
   "codemirror_mode": {
    "name": "ipython",
    "version": 3
   },
   "file_extension": ".py",
   "mimetype": "text/x-python",
   "name": "python",
   "nbconvert_exporter": "python",
   "pygments_lexer": "ipython3",
   "version": "3.6.5"
  }
 },
 "nbformat": 4,
 "nbformat_minor": 2
}
