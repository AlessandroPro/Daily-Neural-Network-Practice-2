{
 "cells": [
  {
   "cell_type": "code",
   "execution_count": 5,
   "metadata": {},
   "outputs": [],
   "source": [
    "import pandas as pd\n",
    "import numpy as np\n",
    "from plotly.offline import download_plotlyjs, init_notebook_mode, plot, iplot\n",
    "from matplotlib import pyplot as plt\n",
    "import seaborn as sns\n",
    "%matplotlib inline"
   ]
  },
  {
   "cell_type": "code",
   "execution_count": 24,
   "metadata": {},
   "outputs": [
    {
     "data": {
      "text/html": [
       "<div>\n",
       "<style scoped>\n",
       "    .dataframe tbody tr th:only-of-type {\n",
       "        vertical-align: middle;\n",
       "    }\n",
       "\n",
       "    .dataframe tbody tr th {\n",
       "        vertical-align: top;\n",
       "    }\n",
       "\n",
       "    .dataframe thead th {\n",
       "        text-align: right;\n",
       "    }\n",
       "</style>\n",
       "<table border=\"1\" class=\"dataframe\">\n",
       "  <thead>\n",
       "    <tr style=\"text-align: right;\">\n",
       "      <th></th>\n",
       "      <th>Provider ID</th>\n",
       "      <th>ZIP Code</th>\n",
       "      <th>Phone Number</th>\n",
       "    </tr>\n",
       "  </thead>\n",
       "  <tbody>\n",
       "    <tr>\n",
       "      <th>count</th>\n",
       "      <td>4812.000000</td>\n",
       "      <td>4812.000000</td>\n",
       "      <td>4.812000e+03</td>\n",
       "    </tr>\n",
       "    <tr>\n",
       "      <th>mean</th>\n",
       "      <td>268294.422901</td>\n",
       "      <td>53990.132377</td>\n",
       "      <td>5.849100e+09</td>\n",
       "    </tr>\n",
       "    <tr>\n",
       "      <th>std</th>\n",
       "      <td>157109.340215</td>\n",
       "      <td>26915.916870</td>\n",
       "      <td>2.331563e+09</td>\n",
       "    </tr>\n",
       "    <tr>\n",
       "      <th>min</th>\n",
       "      <td>10001.000000</td>\n",
       "      <td>603.000000</td>\n",
       "      <td>9.369338e+08</td>\n",
       "    </tr>\n",
       "    <tr>\n",
       "      <th>25%</th>\n",
       "      <td>140185.750000</td>\n",
       "      <td>33015.250000</td>\n",
       "      <td>4.015615e+09</td>\n",
       "    </tr>\n",
       "    <tr>\n",
       "      <th>50%</th>\n",
       "      <td>260043.500000</td>\n",
       "      <td>55410.500000</td>\n",
       "      <td>6.053413e+09</td>\n",
       "    </tr>\n",
       "    <tr>\n",
       "      <th>75%</th>\n",
       "      <td>390222.250000</td>\n",
       "      <td>76035.500000</td>\n",
       "      <td>7.877574e+09</td>\n",
       "    </tr>\n",
       "    <tr>\n",
       "      <th>max</th>\n",
       "      <td>670118.000000</td>\n",
       "      <td>99929.000000</td>\n",
       "      <td>9.898943e+09</td>\n",
       "    </tr>\n",
       "  </tbody>\n",
       "</table>\n",
       "</div>"
      ],
      "text/plain": [
       "         Provider ID      ZIP Code  Phone Number\n",
       "count    4812.000000   4812.000000  4.812000e+03\n",
       "mean   268294.422901  53990.132377  5.849100e+09\n",
       "std    157109.340215  26915.916870  2.331563e+09\n",
       "min     10001.000000    603.000000  9.369338e+08\n",
       "25%    140185.750000  33015.250000  4.015615e+09\n",
       "50%    260043.500000  55410.500000  6.053413e+09\n",
       "75%    390222.250000  76035.500000  7.877574e+09\n",
       "max    670118.000000  99929.000000  9.898943e+09"
      ]
     },
     "execution_count": 24,
     "metadata": {},
     "output_type": "execute_result"
    }
   ],
   "source": [
    "df = pd.read_csv(\"HospitalGeneralInformation.csv\",encoding=\"ISO-8859-1\")\n",
    "df.describe()"
   ]
  },
  {
   "cell_type": "code",
   "execution_count": 27,
   "metadata": {},
   "outputs": [
    {
     "name": "stdout",
     "output_type": "stream",
     "text": [
      "<class 'pandas.core.frame.DataFrame'>\n",
      "RangeIndex: 4812 entries, 0 to 4811\n",
      "Data columns (total 28 columns):\n",
      "Provider ID                                                      4812 non-null int64\n",
      "Hospital Name                                                    4812 non-null object\n",
      "Address                                                          4812 non-null object\n",
      "City                                                             4812 non-null object\n",
      "State                                                            4812 non-null object\n",
      "ZIP Code                                                         4812 non-null int64\n",
      "County Name                                                      4797 non-null object\n",
      "Phone Number                                                     4812 non-null int64\n",
      "Hospital Type                                                    4812 non-null object\n",
      "Hospital Ownership                                               4812 non-null object\n",
      "Emergency Services                                               4812 non-null object\n",
      "Meets criteria for meaningful use of EHRs                        4669 non-null object\n",
      "Hospital overall rating                                          4812 non-null object\n",
      "Hospital overall rating footnote                                 1398 non-null object\n",
      "Mortality national comparison                                    4812 non-null object\n",
      "Mortality national comparison footnote                           1352 non-null object\n",
      "Safety of care national comparison                               4812 non-null object\n",
      "Safety of care national comparison footnote                      2168 non-null object\n",
      "Readmission national comparison                                  4812 non-null object\n",
      "Readmission national comparison footnote                         1017 non-null object\n",
      "Patient experience national comparison                           4812 non-null object\n",
      "Patient experience national comparison footnote                  1369 non-null object\n",
      "Effectiveness of care national comparison                        4812 non-null object\n",
      "Effectiveness of care national comparison footnote               1202 non-null object\n",
      "Timeliness of care national comparison                           4812 non-null object\n",
      "Timeliness of care national comparison footnote                  1266 non-null object\n",
      "Efficient use of medical imaging national comparison             4812 non-null object\n",
      "Efficient use of medical imaging national comparison footnote    2033 non-null object\n",
      "dtypes: int64(3), object(25)\n",
      "memory usage: 1.0+ MB\n"
     ]
    }
   ],
   "source": [
    "df.info()"
   ]
  },
  {
   "cell_type": "code",
   "execution_count": null,
   "metadata": {},
   "outputs": [],
   "source": []
  },
  {
   "cell_type": "code",
   "execution_count": null,
   "metadata": {},
   "outputs": [],
   "source": []
  },
  {
   "cell_type": "code",
   "execution_count": null,
   "metadata": {},
   "outputs": [],
   "source": []
  },
  {
   "cell_type": "code",
   "execution_count": null,
   "metadata": {},
   "outputs": [],
   "source": []
  }
 ],
 "metadata": {
  "kernelspec": {
   "display_name": "Python 3",
   "language": "python",
   "name": "python3"
  },
  "language_info": {
   "codemirror_mode": {
    "name": "ipython",
    "version": 3
   },
   "file_extension": ".py",
   "mimetype": "text/x-python",
   "name": "python",
   "nbconvert_exporter": "python",
   "pygments_lexer": "ipython3",
   "version": "3.6.5"
  }
 },
 "nbformat": 4,
 "nbformat_minor": 2
}
